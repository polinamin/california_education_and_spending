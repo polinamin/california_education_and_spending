{
 "cells": [
  {
   "cell_type": "markdown",
   "id": "8a3c951b-5700-481a-a74e-5096f8341ed5",
   "metadata": {},
   "source": [
    "## Evaluating the State of California’s Higher Education"
   ]
  },
  {
   "cell_type": "markdown",
   "id": "a9864771-05b9-432f-859a-6d0f45d8fe26",
   "metadata": {},
   "source": [
    "### Problem Statement"
   ]
  },
  {
   "cell_type": "markdown",
   "id": "2876c498-2b8f-43d0-894f-2de3c8f7fc12",
   "metadata": {},
   "source": [
    "Given the current per-pupil spending in California, this analysis will look at whether:\n",
    "1. Students are achieving satisfactory educational outcomes, and\n",
    "2. The current budget is related to improvements in educational outcomes.\n",
    "\n",
    "<br>Analysis will be conducted at the county level, and limited to the year 2018-19. ACT and SAT results will be used as proxies to understand educational outcomes. "
   ]
  },
  {
   "cell_type": "markdown",
   "id": "e7d0d27e-a49e-4185-b9bb-39c982193170",
   "metadata": {},
   "source": [
    "### Contents"
   ]
  },
  {
   "cell_type": "markdown",
   "id": "986b6ded-4f8a-4c94-8d48-1bc98b2a703b",
   "metadata": {},
   "source": [
    "- [Background](#Background)\n",
    "- [Data Dictionary](#Data-Dictionary)\n",
    "- [Conclusions and Next Steps](#Conclusions-and-Next-Steps)"
   ]
  },
  {
   "cell_type": "markdown",
   "id": "46d28247-dfe7-41fc-af86-aa6c25c244e9",
   "metadata": {},
   "source": [
    "### Background"
   ]
  },
  {
   "cell_type": "markdown",
   "id": "c3da6509-f636-403c-b1ee-c583eb3a88d7",
   "metadata": {},
   "source": [
    "Total state budget for public TK-12 education in 2018-19 in California was USD97.2 billion. The state spent USD55.4 billion on institutions supporting high-school education (taken as a sum of spending by Unified and High School Agencies). \n",
    "\n",
    "This analysis looks at whether the allocated budget is enough to achieve the desired educational outcomes.\n",
    "\n",
    "**Approach** \n",
    "* Evaluate educational outcomes achieved in 2018-19: Compare county-level educational outcomes (SAT and ACT results) to assess:\n",
    "    * County-level performance relative to national benchmarks\n",
    "    * County performance ranking with respect to educational outcomes\n",
    "* Review per-pupil expenditures: Determine per-pupil county-level spending allocated for high-school students, in order to determine:\n",
    "    * Whether higher spending has any bearing on better educational outcomes"
   ]
  },
  {
   "cell_type": "markdown",
   "id": "68aec640-8e04-430a-a2c2-c10cacb8de6a",
   "metadata": {},
   "source": [
    "### Data Dictionary"
   ]
  },
  {
   "cell_type": "markdown",
   "id": "b290e917-32be-41fa-b135-80b8775ba565",
   "metadata": {},
   "source": [
    "**To-Do:** *Edit the table below to create your own data dictionary for the datasets you chose.*\n",
    "\n",
    "|Feature|Type|Dataset|Description|\n",
    "|---|---|---|---|\n",
    "|county|object|ACT/SAT/Spending|The political subdivision which oversees reporting for educational and expenditure outcomes.|\n",
    "|agency_type_unified|object|Spending|Indicates whether a Local Educational Agency serves Higher Education students (unified school districs cater to K-12 students).|\n",
    "|total_spending_unified_sum|float|Spending|Total expenditure per student, reported by Unified Education districts, aggregated by county.|\n",
    "|total_spending_unified_mean|float|Spending|Average expenditure per student, reported by Unified Education districts, aggregated by county.|\n",
    "|agency_type|object|Spending|Spending|Indicates whether a Local Educational Agency serves Higher Education students.|\n",
    "|total_spending_high_sum|float|Spending|Total expenditure per student, reported by High School Education districts, aggregated by county.|\n",
    "|total_spending_high_mean|float|Spending|Average expenditure per student, reported by High School Education districts, aggregated by county.|\n",
    "|sat_enroll_sum19|float|SAT|Total number of students enrolled in grade 12.|\n",
    "|sat_enroll_mean19|float|SAT|Average number of students enrolled in grade 12.|\n",
    "|sat_test_taken_sum19|float|SAT|Total number of grade 12 students who took the SAT.|\n",
    "|sat_test_taken_mean19|float|SAT|Average number of grade 12 students who took the SAT.|\n",
    "|sat_participation_rate_mean19|float|SAT|Grade 12 students who took the SAT as a % of students enrolled in grade 12 (calculated as an average across districts).|\n",
    "|sat_ERW_success_mean19|float|SAT|Average of grade 12 students who met or exceeded the benchmark (480/800) for Evidence-Based Reading & Writing (ERW) test for grade 12 (as % of students enrolled in grade 12).|\n",
    "|sat_Math_success_mean19|float|SAT|Average of grade 12 students who met or exceeded the benchmark (530/800) for New SAT Math test for grade 12 (as % of students enrolled in grade 12).|\n",
    "|sat_Both_success_mean19|float|SAT|Average of grade 12 students who met or exceeded the benchmark for both the ERW and Math tests for grade 12 (as % of students enrolled in grade 12).|\n",
    "|enroll12_sum_act|float|ACT|Total number of students enrolled in grade 12.|\n",
    "|enroll12_mean_act|float|ACT|Average number of students enrolled in grade 12.|\n",
    "|numtsttakr_act|float|ACT|Total number of grade 12 students who took the ACT.|\n",
    "|numtsttakr_mean|float|ACT|Average number of grade 12 students who took the ACT.|\n",
    "|act_participation_rate|float|ACT|Grade 12 students who took the ACT as a % of students enrolled in grade 12 (calculated as an average across districts).|\n",
    "|avgscrmath_mean_act|float|ACT|Average ACT Score for Math.|\n",
    "|avgscrsci_mean_act|float|ACT|Average ACT Score for Science.|\n",
    "|avgscreng_mean_act|float|ACT|Average ACT Score for English.|\n",
    "|avgscrread_mean_act|float|ACT|Average ACT Score for Reading.|\n",
    "|pctge21_act|float|ACT|Average percent of test takers whose ACT composite scores were greater or equal to 21.|\n",
    "|high_spend|float|Spending|Current cost of education per student (calculated as total expenditure of education per average daily attendance), including expenditures for salaries, employee benefits, books, supplies, equipment, services and indirect costs. Costs are reported by Local Educational Agency, which controls and administers state funding to individual school districts.|\n",
    "\n",
    "Note: All values denoted with a * reflect cases with insufficient number of students to create an anonymous aggregate for reporting.\n",
    "\n",
    "<br>ACT Dataset: [ACT Test Results, California Department of Education](\"../data/act_2019_ca.csv\")\n",
    "<br>SAT Dataset: [SAT Test Results, California Department of Education](\"../data/sat_2019_ca.csv\")\n",
    "<br>Spending Dataset: [Per Pupil Spending, California Department of Education.](\"../data/Education_spending_total_spending_by_LEA_by_county.csv\")"
   ]
  },
  {
   "cell_type": "markdown",
   "id": "3602c8f7-7078-4dec-b79c-12fa0a21cb88",
   "metadata": {},
   "source": [
    "### Conclusions and Next Steps"
   ]
  },
  {
   "cell_type": "markdown",
   "id": "d54827b8-1c7c-4e3a-b28a-4f3e04206365",
   "metadata": {},
   "source": [
    "1. Just 43.4% of California students met or exceeded the SAT benchmark.\n",
    "    - While 56% of students met or exceeded the ACT benchmark, fewer students take the ACT\n",
    "2. California students fare worse in Mathematics than English, Reading, or Writing\n",
    "    - SAT and ACT outcomes in mathematics were closely related, implying that interventions and variables impacting performance in mathematics, impacts test-takers for both tests \n",
    "3. Higher spending per pupil did not result in better educational outcomes\n",
    "\n",
    "**Next Steps in the Analysis**\n",
    "1. Confirm that SAT and ACT results:\n",
    "    - How well they reflect educational outcomes\n",
    "    - How they relate to acceptance and success criteria in post-secondary education\n",
    "    - How they compare to other factors that evaluate educational outcomes, especially with respect to accounting for geographic and economic dispersion, English proficiency, and diversity and representation\n",
    "2. Review spending per student calculations to finalize outcomes\n",
    "3. Consider conducting a cohort-based analysis, to see whether a continuous 4-year investment results in improved educational outcomes\n",
    "4. Define and evaluate factors that impact resource allocation in education\n",
    "5. Conduct time-series analysis to test factors identified as having a significant impact on resource allocation effectiveness for education outcomes\n"
   ]
  }
 ],
 "metadata": {
  "kernelspec": {
   "display_name": "Python 3 (ipykernel)",
   "language": "python",
   "name": "python3"
  },
  "language_info": {
   "codemirror_mode": {
    "name": "ipython",
    "version": 3
   },
   "file_extension": ".py",
   "mimetype": "text/x-python",
   "name": "python",
   "nbconvert_exporter": "python",
   "pygments_lexer": "ipython3",
   "version": "3.11.4"
  }
 },
 "nbformat": 4,
 "nbformat_minor": 5
}
